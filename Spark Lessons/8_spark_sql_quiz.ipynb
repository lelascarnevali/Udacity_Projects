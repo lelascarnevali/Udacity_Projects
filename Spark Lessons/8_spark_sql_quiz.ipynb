{
 "cells": [
  {
   "cell_type": "markdown",
   "metadata": {},
   "source": [
    "# Data Wrangling with Spark SQL Quiz\n",
    "\n",
    "This quiz uses the same dataset and most of the same questions from the earlier \"Quiz - Data Wrangling with Data Frames Jupyter Notebook.\" For this quiz, however, use Spark SQL instead of Spark Data Frames."
   ]
  },
  {
   "cell_type": "code",
   "execution_count": 13,
   "metadata": {},
   "outputs": [],
   "source": [
    "from pyspark.sql import SparkSession\n",
    "from pyspark.sql.window import Window\n",
    "from pyspark.sql.types import IntegerType\n",
    "\n",
    "# TODOS: \n",
    "# 1) import any other libraries you might need\n",
    "# 5) write code to answer the quiz questions "
   ]
  },
  {
   "cell_type": "code",
   "execution_count": 4,
   "metadata": {},
   "outputs": [],
   "source": [
    "# 2) instantiate a Spark session \n",
    "spark = SparkSession.builder \\\n",
    "    .appName(\"Sparkify\") \\\n",
    "    .getOrCreate()\n",
    "# 3) read in the data set located at the path \"data/sparkify_log_small.json\"\n",
    "data_path = \"data/sparkify_log_small.json\"\n",
    "df = spark.read.json(data_path)"
   ]
  },
  {
   "cell_type": "code",
   "execution_count": 5,
   "metadata": {},
   "outputs": [],
   "source": [
    "# 4) create a view to use with your SQL queries\n",
    "df.createOrReplaceTempView(\"df\")"
   ]
  },
  {
   "cell_type": "markdown",
   "metadata": {},
   "source": [
    "# Question 1\n",
    "\n",
    "Which page did user id \"\"(empty string) NOT visit?"
   ]
  },
  {
   "cell_type": "code",
   "execution_count": 7,
   "metadata": {},
   "outputs": [
    {
     "name": "stdout",
     "output_type": "stream",
     "text": [
      "+----------------+\n",
      "|            page|\n",
      "+----------------+\n",
      "|Submit Downgrade|\n",
      "|       Downgrade|\n",
      "|          Logout|\n",
      "|   Save Settings|\n",
      "|        Settings|\n",
      "|        NextSong|\n",
      "|         Upgrade|\n",
      "|           Error|\n",
      "|  Submit Upgrade|\n",
      "+----------------+\n",
      "\n"
     ]
    }
   ],
   "source": [
    "# TODO: write your code to answer question 1\n",
    "\n",
    "df_q1 = spark.sql(\"\"\"\n",
    "            SELECT DISTINCT page\n",
    "            FROM df\n",
    "            EXCEPT\n",
    "            SELECT DISTINCT page\n",
    "            FROM df\n",
    "            WHERE userId = ''\n",
    "            \"\"\")\n",
    "\n",
    "# Mostrar o resultado\n",
    "df_q1.show()"
   ]
  },
  {
   "cell_type": "markdown",
   "metadata": {},
   "source": [
    "# Question 2 - Reflect\n",
    "\n",
    "Why might you prefer to use SQL over data frames? Why might you prefer data frames over SQL?"
   ]
  },
  {
   "cell_type": "markdown",
   "metadata": {},
   "source": [
    "# Question 3\n",
    "\n",
    "How many female users do we have in the data set?"
   ]
  },
  {
   "cell_type": "code",
   "execution_count": 6,
   "metadata": {},
   "outputs": [
    {
     "name": "stdout",
     "output_type": "stream",
     "text": [
      "+-----+----------+\n",
      "| page|      auth|\n",
      "+-----+----------+\n",
      "|Login|Logged Out|\n",
      "| Help|Logged Out|\n",
      "| Home|     Guest|\n",
      "| Home|Logged Out|\n",
      "|About|Logged Out|\n",
      "|About|     Guest|\n",
      "+-----+----------+\n",
      "\n"
     ]
    }
   ],
   "source": [
    "# TODO: write your code to answer question 3\n",
    "\n",
    "df_q2 = spark.sql(\"\"\"\n",
    "            SELECT DISTINCT page, auth\n",
    "            FROM df\n",
    "            WHERE userId = ''\n",
    "            \"\"\")\n",
    "\n",
    "df_q2.show()"
   ]
  },
  {
   "cell_type": "markdown",
   "metadata": {},
   "source": [
    "# Question 4\n",
    "\n",
    "How many songs were played from the most played artist?"
   ]
  },
  {
   "cell_type": "code",
   "execution_count": 9,
   "metadata": {},
   "outputs": [
    {
     "name": "stdout",
     "output_type": "stream",
     "text": [
      "+--------+---------+----+\n",
      "|  artist|num_songs|rank|\n",
      "+--------+---------+----+\n",
      "|Coldplay|       83|   1|\n",
      "+--------+---------+----+\n",
      "\n"
     ]
    }
   ],
   "source": [
    "# TODO: write your code to answer question 4\n",
    "\n",
    "df_q4 = spark.sql(\"\"\"\n",
    "            SELECT *\n",
    "            FROM (SELECT *, RANK() OVER (ORDER BY num_songs DESC) AS rank FROM (SELECT artist, COUNT(song) AS num_songs FROM df GROUP BY artist))\n",
    "            WHERE rank = 1\n",
    "            \"\"\")\n",
    "\n",
    "# Mostrar o resultado\n",
    "df_q4.show()"
   ]
  },
  {
   "cell_type": "markdown",
   "metadata": {},
   "source": [
    "# Question 5 (challenge)\n",
    "\n",
    "How many songs do users listen to on average between visiting our home page? Please round your answer to the closest integer."
   ]
  },
  {
   "cell_type": "code",
   "execution_count": 20,
   "metadata": {},
   "outputs": [
    {
     "name": "stdout",
     "output_type": "stream",
     "text": [
      "+----------------+\n",
      "|avg_period_count|\n",
      "+----------------+\n",
      "|             7.0|\n",
      "+----------------+\n",
      "\n"
     ]
    }
   ],
   "source": [
    "spark.udf.register(\"ishome_udf\", lambda ishome: int(ishome == 'Home'), IntegerType())\n",
    "\n",
    "df_q5 = spark.sql(\"\"\"\n",
    "WITH cusum AS (\n",
    "    SELECT userId, page, ts,\n",
    "           ishome_udf(page) AS homevisit,\n",
    "           SUM(ishome_udf(page)) OVER (PARTITION BY userId ORDER BY ts DESC RANGE BETWEEN UNBOUNDED PRECEDING AND CURRENT ROW) AS period\n",
    "    FROM df\n",
    "    WHERE page IN ('NextSong', 'Home')\n",
    ")\n",
    "\n",
    ", cusum_nextsong AS (\n",
    "    SELECT userId, page, ts, homevisit, period\n",
    "    FROM cusum\n",
    "    WHERE page = 'NextSong'\n",
    ")\n",
    "\n",
    ", result AS (\n",
    "    SELECT userId, period, COUNT(period) AS period_count\n",
    "    FROM cusum_nextsong\n",
    "    GROUP BY userId, period\n",
    ")\n",
    "\n",
    "SELECT ROUND(AVG(period_count),0) AS avg_period_count\n",
    "FROM result\n",
    "\"\"\")\n",
    "\n",
    "df_q5.show()\n"
   ]
  },
  {
   "cell_type": "code",
   "execution_count": null,
   "metadata": {},
   "outputs": [],
   "source": []
  }
 ],
 "metadata": {
  "kernelspec": {
   "display_name": "Python 3",
   "language": "python",
   "name": "python3"
  },
  "language_info": {
   "codemirror_mode": {
    "name": "ipython",
    "version": 3
   },
   "file_extension": ".py",
   "mimetype": "text/x-python",
   "name": "python",
   "nbconvert_exporter": "python",
   "pygments_lexer": "ipython3",
   "version": "3.6.3"
  }
 },
 "nbformat": 4,
 "nbformat_minor": 2
}
