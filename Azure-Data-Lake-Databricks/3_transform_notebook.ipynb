{
 "cells": [
  {
   "cell_type": "code",
   "execution_count": 0,
   "metadata": {
    "application/vnd.databricks.v1+cell": {
     "cellMetadata": {
      "byteLimit": 2048000,
      "implicitDf": true,
      "rowLimit": 10000
     },
     "inputWidgets": {},
     "nuid": "25951882-923a-4195-bcbf-c37ba78b1f22",
     "showTitle": false,
     "title": ""
    }
   },
   "outputs": [
    {
     "output_type": "display_data",
     "data": {
      "text/html": [
       "<style scoped>\n",
       "  .table-result-container {\n",
       "    max-height: 300px;\n",
       "    overflow: auto;\n",
       "  }\n",
       "  table, th, td {\n",
       "    border: 1px solid black;\n",
       "    border-collapse: collapse;\n",
       "  }\n",
       "  th, td {\n",
       "    padding: 5px;\n",
       "  }\n",
       "  th {\n",
       "    text-align: left;\n",
       "  }\n",
       "</style><div class='table-result-container'><table class='table-result'><thead style='background-color: white'><tr></tr></thead><tbody></tbody></table></div>"
      ]
     },
     "metadata": {
      "application/vnd.databricks.v1+output": {
       "addedWidgets": {},
       "aggData": [],
       "aggError": "",
       "aggOverflow": false,
       "aggSchema": [],
       "aggSeriesLimitReached": false,
       "aggType": "",
       "arguments": {},
       "columnCustomDisplayInfos": {},
       "data": [],
       "datasetInfos": [],
       "dbfsResultPath": null,
       "isJsonSchema": true,
       "metadata": {
        "dataframeName": null
       },
       "overflow": false,
       "plotOptions": {
        "customPlotOptions": {},
        "displayType": "table",
        "pivotAggregation": null,
        "pivotColumns": null,
        "xColumns": null,
        "yColumns": null
       },
       "removedWidgets": [],
       "schema": [],
       "type": "table"
      }
     },
     "output_type": "display_data"
    }
   ],
   "source": [
    "%sql\n",
    "\n",
    "CREATE DATABASE IF NOT EXISTS gold;"
   ]
  },
  {
   "cell_type": "code",
   "execution_count": 0,
   "metadata": {
    "application/vnd.databricks.v1+cell": {
     "cellMetadata": {
      "byteLimit": 2048000,
      "implicitDf": true,
      "rowLimit": 10000
     },
     "inputWidgets": {},
     "nuid": "35e8b736-6392-4c82-81a3-a422e32e7014",
     "showTitle": false,
     "title": ""
    }
   },
   "outputs": [
    {
     "output_type": "display_data",
     "data": {
      "text/html": [
       "<style scoped>\n",
       "  .table-result-container {\n",
       "    max-height: 300px;\n",
       "    overflow: auto;\n",
       "  }\n",
       "  table, th, td {\n",
       "    border: 1px solid black;\n",
       "    border-collapse: collapse;\n",
       "  }\n",
       "  th, td {\n",
       "    padding: 5px;\n",
       "  }\n",
       "  th {\n",
       "    text-align: left;\n",
       "  }\n",
       "</style><div class='table-result-container'><table class='table-result'><thead style='background-color: white'><tr></tr></thead><tbody></tbody></table></div>"
      ]
     },
     "metadata": {
      "application/vnd.databricks.v1+output": {
       "addedWidgets": {},
       "aggData": [],
       "aggError": "",
       "aggOverflow": false,
       "aggSchema": [],
       "aggSeriesLimitReached": false,
       "aggType": "",
       "arguments": {},
       "columnCustomDisplayInfos": {},
       "data": [],
       "datasetInfos": [],
       "dbfsResultPath": null,
       "isJsonSchema": true,
       "metadata": {
        "dataframeName": null
       },
       "overflow": false,
       "plotOptions": {
        "customPlotOptions": {},
        "displayType": "table",
        "pivotAggregation": null,
        "pivotColumns": null,
        "xColumns": null,
        "yColumns": null
       },
       "removedWidgets": [],
       "schema": [],
       "type": "table"
      }
     },
     "output_type": "display_data"
    }
   ],
   "source": [
    "%sql\n",
    "DROP TABLE IF EXISTS gold.dim_time;\n",
    "\n",
    "CREATE TABLE gold.dim_time (\n",
    "    id_time INT,\n",
    "    nm_time STRING,\n",
    "    nr_hour INT,\n",
    "    nr_minutes INT,\n",
    "    nm_time_day STRING\n",
    ")\n",
    "USING delta;"
   ]
  },
  {
   "cell_type": "code",
   "execution_count": 0,
   "metadata": {
    "application/vnd.databricks.v1+cell": {
     "cellMetadata": {
      "byteLimit": 2048000,
      "implicitDf": true,
      "rowLimit": 10000
     },
     "inputWidgets": {},
     "nuid": "a6b36afc-57bc-4e86-9665-4a059675b3d6",
     "showTitle": false,
     "title": ""
    }
   },
   "outputs": [
    {
     "output_type": "display_data",
     "data": {
      "text/html": [
       "<style scoped>\n",
       "  .table-result-container {\n",
       "    max-height: 300px;\n",
       "    overflow: auto;\n",
       "  }\n",
       "  table, th, td {\n",
       "    border: 1px solid black;\n",
       "    border-collapse: collapse;\n",
       "  }\n",
       "  th, td {\n",
       "    padding: 5px;\n",
       "  }\n",
       "  th {\n",
       "    text-align: left;\n",
       "  }\n",
       "</style><div class='table-result-container'><table class='table-result'><thead style='background-color: white'><tr><th>num_affected_rows</th><th>num_inserted_rows</th></tr></thead><tbody><tr><td>175720</td><td>175720</td></tr></tbody></table></div>"
      ]
     },
     "metadata": {
      "application/vnd.databricks.v1+output": {
       "addedWidgets": {},
       "aggData": [],
       "aggError": "",
       "aggOverflow": false,
       "aggSchema": [],
       "aggSeriesLimitReached": false,
       "aggType": "",
       "arguments": {},
       "columnCustomDisplayInfos": {},
       "data": [
        [
         175720,
         175720
        ]
       ],
       "datasetInfos": [],
       "dbfsResultPath": null,
       "isJsonSchema": true,
       "metadata": {
        "dataframeName": "_sqldf",
        "executionCount": 27
       },
       "overflow": false,
       "plotOptions": {
        "customPlotOptions": {},
        "displayType": "table",
        "pivotAggregation": null,
        "pivotColumns": null,
        "xColumns": null,
        "yColumns": null
       },
       "removedWidgets": [],
       "schema": [
        {
         "metadata": "{}",
         "name": "num_affected_rows",
         "type": "\"long\""
        },
        {
         "metadata": "{}",
         "name": "num_inserted_rows",
         "type": "\"long\""
        }
       ],
       "type": "table"
      }
     },
     "output_type": "display_data"
    }
   ],
   "source": [
    "%sql\n",
    "TRUNCATE TABLE gold.dim_time;\n",
    "\n",
    "INSERT INTO gold.dim_time\n",
    "WITH \n",
    "START_TIME AS (\n",
    "    SELECT\n",
    "        COALESCE(CAST(REPLACE(SUBSTRING(ended_at, 12, 5), \":\", \"\") AS INT), -1) AS id_time,  -- Tratamento para id_time nulo\n",
    "        CONCAT(\n",
    "            LPAD(CAST(SUBSTRING(started_at, 12, 2) AS INT), 2, '0'),\n",
    "            ':',\n",
    "            LPAD(CAST(SUBSTRING(started_at, 15, 2) AS INT), 2, '0')\n",
    "        ) AS nm_time,\n",
    "        CAST(SUBSTRING(started_at, 12, 2) AS INT) AS nr_hour,\n",
    "        CAST(SUBSTRING(started_at, 15, 2) AS INT) AS nr_minutes,\n",
    "        CASE\n",
    "            WHEN CAST(SUBSTRING(started_at, 12, 2) AS INT) >= 0 AND CAST(SUBSTRING(started_at, 12, 2) AS INT) < 6 THEN 'dawn'\n",
    "            WHEN CAST(SUBSTRING(started_at, 12, 2) AS INT) >= 6 AND CAST(SUBSTRING(started_at, 12, 2) AS INT) < 12 THEN 'morning'\n",
    "            WHEN CAST(SUBSTRING(started_at, 12, 2) AS INT) >= 12 AND CAST(SUBSTRING(started_at, 12, 2) AS INT) < 18 THEN 'afternoon'\n",
    "            WHEN CAST(SUBSTRING(started_at, 12, 2) AS INT) >= 18 AND CAST(SUBSTRING(started_at, 12, 2) AS INT) < 24 THEN 'evening'\n",
    "            ELSE 'unknown'\n",
    "        END AS nm_time_day\n",
    "    FROM hive_metastore.silver.trips\n",
    "),\n",
    "END_TIME AS (\n",
    "    SELECT\n",
    "        COALESCE(CAST(REPLACE(SUBSTRING(ended_at, 12, 5), \":\", \"\") AS INT), -1) AS id_time,  -- Tratamento para id_time nulo\n",
    "        CONCAT(\n",
    "            LPAD(CAST(SUBSTRING(ended_at, 12, 2) AS INT), 2, '0'),\n",
    "            ':',\n",
    "            LPAD(CAST(SUBSTRING(ended_at, 15, 2) AS INT), 2, '0')\n",
    "        ) AS nm_time,\n",
    "        CAST(SUBSTRING(ended_at, 12, 2) AS INT) AS nr_hour,\n",
    "        CAST(SUBSTRING(ended_at, 15, 2) AS INT) AS nr_minutes,\n",
    "        CASE\n",
    "            WHEN CAST(SUBSTRING(ended_at, 12, 2) AS INT) >= 0 AND CAST(SUBSTRING(ended_at, 12, 2) AS INT) < 6 THEN 'dawn'\n",
    "            WHEN CAST(SUBSTRING(ended_at, 12, 2) AS INT) >= 6 AND CAST(SUBSTRING(ended_at, 12, 2) AS INT) < 12 THEN 'morning'\n",
    "            WHEN CAST(SUBSTRING(ended_at, 12, 2) AS INT) >= 12 AND CAST(SUBSTRING(ended_at, 12, 2) AS INT) < 18 THEN 'afternoon'\n",
    "            WHEN CAST(SUBSTRING(ended_at, 12, 2) AS INT) >= 18 AND CAST(SUBSTRING(ended_at, 12, 2) AS INT) < 24 THEN 'evening'\n",
    "            ELSE 'unknown'\n",
    "        END AS nm_time_day\n",
    "    FROM hive_metastore.silver.trips\n",
    "),\n",
    "UNION_TABLES AS (\n",
    "    SELECT * FROM START_TIME\n",
    "    UNION\n",
    "    SELECT * FROM END_TIME\n",
    ")\n",
    "SELECT id_time, nm_time, nr_hour, nr_minutes, nm_time_day\n",
    "FROM UNION_TABLES\n",
    "ORDER BY id_time;"
   ]
  },
  {
   "cell_type": "code",
   "execution_count": 0,
   "metadata": {
    "application/vnd.databricks.v1+cell": {
     "cellMetadata": {
      "byteLimit": 2048000,
      "implicitDf": true,
      "rowLimit": 10000
     },
     "inputWidgets": {},
     "nuid": "1811c53c-33bb-4565-8b79-949023504340",
     "showTitle": false,
     "title": ""
    }
   },
   "outputs": [
    {
     "output_type": "display_data",
     "data": {
      "text/html": [
       "<style scoped>\n",
       "  .table-result-container {\n",
       "    max-height: 300px;\n",
       "    overflow: auto;\n",
       "  }\n",
       "  table, th, td {\n",
       "    border: 1px solid black;\n",
       "    border-collapse: collapse;\n",
       "  }\n",
       "  th, td {\n",
       "    padding: 5px;\n",
       "  }\n",
       "  th {\n",
       "    text-align: left;\n",
       "  }\n",
       "</style><div class='table-result-container'><table class='table-result'><thead style='background-color: white'><tr><th>id_time</th><th>nr_time</th><th>nr_hour</th><th>nr_minutes</th><th>nm_time_day</th></tr></thead><tbody><tr><td>0</td><td>00:00</td><td>0</td><td>0</td><td>dawn</td></tr><tr><td>1</td><td>00:01</td><td>0</td><td>1</td><td>dawn</td></tr><tr><td>2</td><td>00:02</td><td>0</td><td>2</td><td>dawn</td></tr><tr><td>3</td><td>00:03</td><td>0</td><td>3</td><td>dawn</td></tr><tr><td>4</td><td>00:04</td><td>0</td><td>4</td><td>dawn</td></tr><tr><td>5</td><td>00:05</td><td>0</td><td>5</td><td>dawn</td></tr><tr><td>6</td><td>00:06</td><td>0</td><td>6</td><td>dawn</td></tr><tr><td>7</td><td>00:07</td><td>0</td><td>7</td><td>dawn</td></tr><tr><td>8</td><td>00:08</td><td>0</td><td>8</td><td>dawn</td></tr><tr><td>9</td><td>00:09</td><td>0</td><td>9</td><td>dawn</td></tr></tbody></table></div>"
      ]
     },
     "metadata": {
      "application/vnd.databricks.v1+output": {
       "addedWidgets": {},
       "aggData": [],
       "aggError": "",
       "aggOverflow": false,
       "aggSchema": [],
       "aggSeriesLimitReached": false,
       "aggType": "",
       "arguments": {},
       "columnCustomDisplayInfos": {},
       "data": [
        [
         0,
         "00:00",
         0,
         0,
         "dawn"
        ],
        [
         1,
         "00:01",
         0,
         1,
         "dawn"
        ],
        [
         2,
         "00:02",
         0,
         2,
         "dawn"
        ],
        [
         3,
         "00:03",
         0,
         3,
         "dawn"
        ],
        [
         4,
         "00:04",
         0,
         4,
         "dawn"
        ],
        [
         5,
         "00:05",
         0,
         5,
         "dawn"
        ],
        [
         6,
         "00:06",
         0,
         6,
         "dawn"
        ],
        [
         7,
         "00:07",
         0,
         7,
         "dawn"
        ],
        [
         8,
         "00:08",
         0,
         8,
         "dawn"
        ],
        [
         9,
         "00:09",
         0,
         9,
         "dawn"
        ]
       ],
       "datasetInfos": [],
       "dbfsResultPath": null,
       "isJsonSchema": true,
       "metadata": {
        "dataframeName": "_sqldf",
        "executionCount": 16
       },
       "overflow": false,
       "plotOptions": {
        "customPlotOptions": {},
        "displayType": "table",
        "pivotAggregation": null,
        "pivotColumns": null,
        "xColumns": null,
        "yColumns": null
       },
       "removedWidgets": [],
       "schema": [
        {
         "metadata": "{}",
         "name": "id_time",
         "type": "\"integer\""
        },
        {
         "metadata": "{}",
         "name": "nr_time",
         "type": "\"string\""
        },
        {
         "metadata": "{}",
         "name": "nr_hour",
         "type": "\"integer\""
        },
        {
         "metadata": "{}",
         "name": "nr_minutes",
         "type": "\"integer\""
        },
        {
         "metadata": "{}",
         "name": "nm_time_day",
         "type": "\"string\""
        }
       ],
       "type": "table"
      }
     },
     "output_type": "display_data"
    }
   ],
   "source": [
    "%sql\n",
    "\n",
    "SELECT * FROM gold.dim_time limit 10"
   ]
  },
  {
   "cell_type": "code",
   "execution_count": 0,
   "metadata": {
    "application/vnd.databricks.v1+cell": {
     "cellMetadata": {
      "byteLimit": 2048000,
      "implicitDf": true,
      "rowLimit": 10000
     },
     "inputWidgets": {},
     "nuid": "de1f7c6e-fd78-47e1-83ee-79f9601dc315",
     "showTitle": false,
     "title": ""
    }
   },
   "outputs": [
    {
     "output_type": "display_data",
     "data": {
      "text/html": [
       "<style scoped>\n",
       "  .table-result-container {\n",
       "    max-height: 300px;\n",
       "    overflow: auto;\n",
       "  }\n",
       "  table, th, td {\n",
       "    border: 1px solid black;\n",
       "    border-collapse: collapse;\n",
       "  }\n",
       "  th, td {\n",
       "    padding: 5px;\n",
       "  }\n",
       "  th {\n",
       "    text-align: left;\n",
       "  }\n",
       "</style><div class='table-result-container'><table class='table-result'><thead style='background-color: white'><tr></tr></thead><tbody></tbody></table></div>"
      ]
     },
     "metadata": {
      "application/vnd.databricks.v1+output": {
       "addedWidgets": {},
       "aggData": [],
       "aggError": "",
       "aggOverflow": false,
       "aggSchema": [],
       "aggSeriesLimitReached": false,
       "aggType": "",
       "arguments": {},
       "columnCustomDisplayInfos": {},
       "data": [],
       "datasetInfos": [],
       "dbfsResultPath": null,
       "isJsonSchema": true,
       "metadata": {
        "dataframeName": null
       },
       "overflow": false,
       "plotOptions": {
        "customPlotOptions": {},
        "displayType": "table",
        "pivotAggregation": null,
        "pivotColumns": null,
        "xColumns": null,
        "yColumns": null
       },
       "removedWidgets": [],
       "schema": [],
       "type": "table"
      }
     },
     "output_type": "display_data"
    }
   ],
   "source": [
    "%sql\n",
    "\n",
    "DROP TABLE IF EXISTS gold.dim_date;\n",
    "\n",
    "CREATE TABLE gold.dim_date (\n",
    "    id_date INT,\n",
    "    dt_date DATE,\n",
    "    nr_day INT,\n",
    "    nr_month INT,\n",
    "    nr_year INT,\n",
    "    nr_quarter INT,\n",
    "    nm_day_week STRING,\n",
    "    nr_day_year INT\n",
    ")\n",
    "USING delta;"
   ]
  },
  {
   "cell_type": "code",
   "execution_count": 0,
   "metadata": {
    "application/vnd.databricks.v1+cell": {
     "cellMetadata": {
      "byteLimit": 2048000,
      "implicitDf": true,
      "rowLimit": 10000
     },
     "inputWidgets": {},
     "nuid": "5f2dde65-4f94-4348-afb9-551872207ec7",
     "showTitle": false,
     "title": ""
    }
   },
   "outputs": [
    {
     "output_type": "display_data",
     "data": {
      "text/html": [
       "<style scoped>\n",
       "  .table-result-container {\n",
       "    max-height: 300px;\n",
       "    overflow: auto;\n",
       "  }\n",
       "  table, th, td {\n",
       "    border: 1px solid black;\n",
       "    border-collapse: collapse;\n",
       "  }\n",
       "  th, td {\n",
       "    padding: 5px;\n",
       "  }\n",
       "  th {\n",
       "    text-align: left;\n",
       "  }\n",
       "</style><div class='table-result-container'><table class='table-result'><thead style='background-color: white'><tr><th>num_affected_rows</th><th>num_inserted_rows</th></tr></thead><tbody><tr><td>19319</td><td>19319</td></tr></tbody></table></div>"
      ]
     },
     "metadata": {
      "application/vnd.databricks.v1+output": {
       "addedWidgets": {},
       "aggData": [],
       "aggError": "",
       "aggOverflow": false,
       "aggSchema": [],
       "aggSeriesLimitReached": false,
       "aggType": "",
       "arguments": {},
       "columnCustomDisplayInfos": {},
       "data": [
        [
         19319,
         19319
        ]
       ],
       "datasetInfos": [],
       "dbfsResultPath": null,
       "isJsonSchema": true,
       "metadata": {
        "dataframeName": "_sqldf",
        "executionCount": 30
       },
       "overflow": false,
       "plotOptions": {
        "customPlotOptions": {},
        "displayType": "table",
        "pivotAggregation": null,
        "pivotColumns": null,
        "xColumns": null,
        "yColumns": null
       },
       "removedWidgets": [],
       "schema": [
        {
         "metadata": "{}",
         "name": "num_affected_rows",
         "type": "\"long\""
        },
        {
         "metadata": "{}",
         "name": "num_inserted_rows",
         "type": "\"long\""
        }
       ],
       "type": "table"
      }
     },
     "output_type": "display_data"
    }
   ],
   "source": [
    "%sql\n",
    "\n",
    "TRUNCATE TABLE gold.dim_date;\n",
    "\n",
    "INSERT INTO gold.dim_date\n",
    "WITH STAGE AS\n",
    "(\n",
    "    SELECT DISTINCT CAST(birthday AS Date) AS dt_date FROM silver.riders\n",
    "    UNION\n",
    "    SELECT DISTINCT CAST(\"Date\" AS Date) AS dt_date FROM silver.payment\n",
    "    UNION \n",
    "    SELECT DISTINCT CAST(account_start_date AS Date) AS dt_date FROM silver.riders\n",
    "    UNION \n",
    "    SELECT DISTINCT CAST(account_end_date AS Date) AS dt_date FROM silver.riders\n",
    "    UNION \n",
    "    SELECT DISTINCT CAST(started_At AS Date) AS dt_date FROM silver.trips\n",
    "    UNION \n",
    "    SELECT DISTINCT CAST(ended_At AS Date) AS dt_date FROM silver.trips\n",
    ")\n",
    "\n",
    "SELECT  COALESCE(CAST(DATE_FORMAT(dt_date, 'yyyyMMdd') AS INT), -1) id_date,\n",
    "        dt_date,\n",
    "        DAY(dt_date) AS nr_day,\n",
    "        MONTH(dt_date) AS nr_month,\n",
    "        YEAR(dt_date) AS nr_year,\n",
    "        QUARTER(dt_date) AS nr_quarter,\n",
    "        CASE DAYOFWEEK(dt_date)\n",
    "            WHEN 1 THEN 'Sunday'\n",
    "            WHEN 2 THEN 'Monday'\n",
    "            WHEN 3 THEN 'Tuesday'\n",
    "            WHEN 4 THEN 'Wednesday'\n",
    "            WHEN 5 THEN 'Thursday'\n",
    "            WHEN 6 THEN 'Friday'\n",
    "            WHEN 7 THEN 'Saturday'\n",
    "            ELSE 'Unknown'\n",
    "        END AS nm_day_week,\n",
    "        DAYOFYEAR(dt_date) AS nr_day_year\n",
    "FROM STAGE\n",
    "ORDER BY 1"
   ]
  },
  {
   "cell_type": "code",
   "execution_count": 0,
   "metadata": {
    "application/vnd.databricks.v1+cell": {
     "cellMetadata": {
      "byteLimit": 2048000,
      "implicitDf": true,
      "rowLimit": 10000
     },
     "inputWidgets": {},
     "nuid": "2bf7c496-0b63-4bfc-b96e-b108bb22392b",
     "showTitle": false,
     "title": ""
    }
   },
   "outputs": [
    {
     "output_type": "display_data",
     "data": {
      "text/html": [
       "<style scoped>\n",
       "  .table-result-container {\n",
       "    max-height: 300px;\n",
       "    overflow: auto;\n",
       "  }\n",
       "  table, th, td {\n",
       "    border: 1px solid black;\n",
       "    border-collapse: collapse;\n",
       "  }\n",
       "  th, td {\n",
       "    padding: 5px;\n",
       "  }\n",
       "  th {\n",
       "    text-align: left;\n",
       "  }\n",
       "</style><div class='table-result-container'><table class='table-result'><thead style='background-color: white'><tr><th>id_date</th><th>dt_date</th><th>nr_day</th><th>nr_month</th><th>nr_year</th><th>nr_quarter</th><th>nm_day_week</th><th>nr_day_year</th></tr></thead><tbody><tr><td>20220212</td><td>2022-02-12</td><td>12</td><td>2</td><td>2022</td><td>1</td><td>Saturday</td><td>43</td></tr><tr><td>20220211</td><td>2022-02-11</td><td>11</td><td>2</td><td>2022</td><td>1</td><td>Friday</td><td>42</td></tr><tr><td>20220210</td><td>2022-02-10</td><td>10</td><td>2</td><td>2022</td><td>1</td><td>Thursday</td><td>41</td></tr><tr><td>20220209</td><td>2022-02-09</td><td>9</td><td>2</td><td>2022</td><td>1</td><td>Wednesday</td><td>40</td></tr><tr><td>20220208</td><td>2022-02-08</td><td>8</td><td>2</td><td>2022</td><td>1</td><td>Tuesday</td><td>39</td></tr><tr><td>20220207</td><td>2022-02-07</td><td>7</td><td>2</td><td>2022</td><td>1</td><td>Monday</td><td>38</td></tr><tr><td>20220206</td><td>2022-02-06</td><td>6</td><td>2</td><td>2022</td><td>1</td><td>Sunday</td><td>37</td></tr><tr><td>20220205</td><td>2022-02-05</td><td>5</td><td>2</td><td>2022</td><td>1</td><td>Saturday</td><td>36</td></tr><tr><td>20220204</td><td>2022-02-04</td><td>4</td><td>2</td><td>2022</td><td>1</td><td>Friday</td><td>35</td></tr><tr><td>20220203</td><td>2022-02-03</td><td>3</td><td>2</td><td>2022</td><td>1</td><td>Thursday</td><td>34</td></tr></tbody></table></div>"
      ]
     },
     "metadata": {
      "application/vnd.databricks.v1+output": {
       "addedWidgets": {},
       "aggData": [],
       "aggError": "",
       "aggOverflow": false,
       "aggSchema": [],
       "aggSeriesLimitReached": false,
       "aggType": "",
       "arguments": {},
       "columnCustomDisplayInfos": {},
       "data": [
        [
         20220212,
         "2022-02-12",
         12,
         2,
         2022,
         1,
         "Saturday",
         43
        ],
        [
         20220211,
         "2022-02-11",
         11,
         2,
         2022,
         1,
         "Friday",
         42
        ],
        [
         20220210,
         "2022-02-10",
         10,
         2,
         2022,
         1,
         "Thursday",
         41
        ],
        [
         20220209,
         "2022-02-09",
         9,
         2,
         2022,
         1,
         "Wednesday",
         40
        ],
        [
         20220208,
         "2022-02-08",
         8,
         2,
         2022,
         1,
         "Tuesday",
         39
        ],
        [
         20220207,
         "2022-02-07",
         7,
         2,
         2022,
         1,
         "Monday",
         38
        ],
        [
         20220206,
         "2022-02-06",
         6,
         2,
         2022,
         1,
         "Sunday",
         37
        ],
        [
         20220205,
         "2022-02-05",
         5,
         2,
         2022,
         1,
         "Saturday",
         36
        ],
        [
         20220204,
         "2022-02-04",
         4,
         2,
         2022,
         1,
         "Friday",
         35
        ],
        [
         20220203,
         "2022-02-03",
         3,
         2,
         2022,
         1,
         "Thursday",
         34
        ]
       ],
       "datasetInfos": [],
       "dbfsResultPath": null,
       "isJsonSchema": true,
       "metadata": {
        "dataframeName": "_sqldf",
        "executionCount": 34
       },
       "overflow": false,
       "plotOptions": {
        "customPlotOptions": {},
        "displayType": "table",
        "pivotAggregation": null,
        "pivotColumns": null,
        "xColumns": null,
        "yColumns": null
       },
       "removedWidgets": [],
       "schema": [
        {
         "metadata": "{}",
         "name": "id_date",
         "type": "\"integer\""
        },
        {
         "metadata": "{}",
         "name": "dt_date",
         "type": "\"date\""
        },
        {
         "metadata": "{}",
         "name": "nr_day",
         "type": "\"integer\""
        },
        {
         "metadata": "{}",
         "name": "nr_month",
         "type": "\"integer\""
        },
        {
         "metadata": "{}",
         "name": "nr_year",
         "type": "\"integer\""
        },
        {
         "metadata": "{}",
         "name": "nr_quarter",
         "type": "\"integer\""
        },
        {
         "metadata": "{}",
         "name": "nm_day_week",
         "type": "\"string\""
        },
        {
         "metadata": "{}",
         "name": "nr_day_year",
         "type": "\"integer\""
        }
       ],
       "type": "table"
      }
     },
     "output_type": "display_data"
    }
   ],
   "source": [
    "%sql\n",
    "\n",
    "SELECT *\n",
    "FROM gold.dim_date\n",
    "ORDER BY 1 DESC\n",
    "LIMIT 10"
   ]
  },
  {
   "cell_type": "code",
   "execution_count": 0,
   "metadata": {
    "application/vnd.databricks.v1+cell": {
     "cellMetadata": {
      "byteLimit": 2048000,
      "implicitDf": true,
      "rowLimit": 10000
     },
     "inputWidgets": {},
     "nuid": "e1b73bd7-0b4c-4e7d-a6d4-9def74b7d750",
     "showTitle": false,
     "title": ""
    }
   },
   "outputs": [
    {
     "output_type": "display_data",
     "data": {
      "text/html": [
       "<style scoped>\n",
       "  .table-result-container {\n",
       "    max-height: 300px;\n",
       "    overflow: auto;\n",
       "  }\n",
       "  table, th, td {\n",
       "    border: 1px solid black;\n",
       "    border-collapse: collapse;\n",
       "  }\n",
       "  th, td {\n",
       "    padding: 5px;\n",
       "  }\n",
       "  th {\n",
       "    text-align: left;\n",
       "  }\n",
       "</style><div class='table-result-container'><table class='table-result'><thead style='background-color: white'><tr></tr></thead><tbody></tbody></table></div>"
      ]
     },
     "metadata": {
      "application/vnd.databricks.v1+output": {
       "addedWidgets": {},
       "aggData": [],
       "aggError": "",
       "aggOverflow": false,
       "aggSchema": [],
       "aggSeriesLimitReached": false,
       "aggType": "",
       "arguments": {},
       "columnCustomDisplayInfos": {},
       "data": [],
       "datasetInfos": [],
       "dbfsResultPath": null,
       "isJsonSchema": true,
       "metadata": {
        "dataframeName": null
       },
       "overflow": false,
       "plotOptions": {
        "customPlotOptions": {},
        "displayType": "table",
        "pivotAggregation": null,
        "pivotColumns": null,
        "xColumns": null,
        "yColumns": null
       },
       "removedWidgets": [],
       "schema": [],
       "type": "table"
      }
     },
     "output_type": "display_data"
    }
   ],
   "source": [
    "%sql\n",
    "\n",
    "DROP TABLE IF EXISTS gold.dim_station;\n",
    "\n",
    "CREATE TABLE gold.dim_station (\n",
    "    id_station STRING,\n",
    "    nm_station STRING,\n",
    "    nr_latitude DECIMAL(9,6),\n",
    "    nr_longitude DECIMAL(9,6)\n",
    ")\n",
    "USING delta;"
   ]
  },
  {
   "cell_type": "code",
   "execution_count": 0,
   "metadata": {
    "application/vnd.databricks.v1+cell": {
     "cellMetadata": {
      "byteLimit": 2048000,
      "implicitDf": true,
      "rowLimit": 10000
     },
     "inputWidgets": {},
     "nuid": "0ad7ff0b-c171-40e8-b332-7e34fc79099a",
     "showTitle": false,
     "title": ""
    }
   },
   "outputs": [
    {
     "output_type": "display_data",
     "data": {
      "text/html": [
       "<style scoped>\n",
       "  .table-result-container {\n",
       "    max-height: 300px;\n",
       "    overflow: auto;\n",
       "  }\n",
       "  table, th, td {\n",
       "    border: 1px solid black;\n",
       "    border-collapse: collapse;\n",
       "  }\n",
       "  th, td {\n",
       "    padding: 5px;\n",
       "  }\n",
       "  th {\n",
       "    text-align: left;\n",
       "  }\n",
       "</style><div class='table-result-container'><table class='table-result'><thead style='background-color: white'><tr><th>num_affected_rows</th><th>num_inserted_rows</th></tr></thead><tbody><tr><td>838</td><td>838</td></tr></tbody></table></div>"
      ]
     },
     "metadata": {
      "application/vnd.databricks.v1+output": {
       "addedWidgets": {},
       "aggData": [],
       "aggError": "",
       "aggOverflow": false,
       "aggSchema": [],
       "aggSeriesLimitReached": false,
       "aggType": "",
       "arguments": {},
       "columnCustomDisplayInfos": {},
       "data": [
        [
         838,
         838
        ]
       ],
       "datasetInfos": [],
       "dbfsResultPath": null,
       "isJsonSchema": true,
       "metadata": {
        "dataframeName": "_sqldf",
        "executionCount": 30
       },
       "overflow": false,
       "plotOptions": {
        "customPlotOptions": {},
        "displayType": "table",
        "pivotAggregation": null,
        "pivotColumns": null,
        "xColumns": null,
        "yColumns": null
       },
       "removedWidgets": [],
       "schema": [
        {
         "metadata": "{}",
         "name": "num_affected_rows",
         "type": "\"long\""
        },
        {
         "metadata": "{}",
         "name": "num_inserted_rows",
         "type": "\"long\""
        }
       ],
       "type": "table"
      }
     },
     "output_type": "display_data"
    }
   ],
   "source": [
    "%sql\n",
    "TRUNCATE TABLE gold.dim_station;\n",
    "\n",
    "INSERT INTO gold.dim_station\n",
    "SELECT\n",
    "    Station_ID as id_station,\n",
    "    Name as nm_station,\n",
    "    CAST(Latitude AS DECIMAL(9,6)) as nr_latitude,\n",
    "    CAST(Longitude AS DECIMAL(9,6)) as nr_longitude\n",
    "FROM\n",
    "    silver.stations;"
   ]
  },
  {
   "cell_type": "code",
   "execution_count": 0,
   "metadata": {
    "application/vnd.databricks.v1+cell": {
     "cellMetadata": {
      "byteLimit": 2048000,
      "implicitDf": true,
      "rowLimit": 10000
     },
     "inputWidgets": {},
     "nuid": "b5676c8b-16fd-4ddc-8bfb-86a28effb70c",
     "showTitle": false,
     "title": ""
    }
   },
   "outputs": [
    {
     "output_type": "display_data",
     "data": {
      "text/html": [
       "<style scoped>\n",
       "  .table-result-container {\n",
       "    max-height: 300px;\n",
       "    overflow: auto;\n",
       "  }\n",
       "  table, th, td {\n",
       "    border: 1px solid black;\n",
       "    border-collapse: collapse;\n",
       "  }\n",
       "  th, td {\n",
       "    padding: 5px;\n",
       "  }\n",
       "  th {\n",
       "    text-align: left;\n",
       "  }\n",
       "</style><div class='table-result-container'><table class='table-result'><thead style='background-color: white'><tr><th>id_station</th><th>nm_station</th><th>nr_latitude</th><th>nr_longitude</th></tr></thead><tbody><tr><td>525</td><td>Glenwood Ave & Touhy Ave</td><td>42.012701</td><td>-87.666058</td></tr><tr><td>KA1503000012</td><td>Clark St & Lake St</td><td>41.885795</td><td>-87.631101</td></tr><tr><td>637</td><td>Wood St & Chicago Ave</td><td>41.895634</td><td>-87.672069</td></tr><tr><td>13216</td><td>State St & 33rd St</td><td>41.834734</td><td>-87.625828</td></tr><tr><td>18003</td><td>Fairbanks St & Superior St</td><td>41.895808</td><td>-87.620253</td></tr><tr><td>KP1705001026</td><td>LaSalle Dr & Huron St</td><td>41.894877</td><td>-87.632326</td></tr><tr><td>13253</td><td>Lincoln Ave & Waveland Ave</td><td>41.948797</td><td>-87.675278</td></tr><tr><td>KA1503000044</td><td>Rush St & Hubbard St</td><td>41.890173</td><td>-87.626185</td></tr><tr><td>KA1504000140</td><td>Winchester Ave & Elston Ave</td><td>41.924037</td><td>-87.676415</td></tr><tr><td>TA1305000032</td><td>Clinton St & Madison St</td><td>41.882242</td><td>-87.641066</td></tr></tbody></table></div>"
      ]
     },
     "metadata": {
      "application/vnd.databricks.v1+output": {
       "addedWidgets": {},
       "aggData": [],
       "aggError": "",
       "aggOverflow": false,
       "aggSchema": [],
       "aggSeriesLimitReached": false,
       "aggType": "",
       "arguments": {},
       "columnCustomDisplayInfos": {},
       "data": [
        [
         "525",
         "Glenwood Ave & Touhy Ave",
         "42.012701",
         "-87.666058"
        ],
        [
         "KA1503000012",
         "Clark St & Lake St",
         "41.885795",
         "-87.631101"
        ],
        [
         "637",
         "Wood St & Chicago Ave",
         "41.895634",
         "-87.672069"
        ],
        [
         "13216",
         "State St & 33rd St",
         "41.834734",
         "-87.625828"
        ],
        [
         "18003",
         "Fairbanks St & Superior St",
         "41.895808",
         "-87.620253"
        ],
        [
         "KP1705001026",
         "LaSalle Dr & Huron St",
         "41.894877",
         "-87.632326"
        ],
        [
         "13253",
         "Lincoln Ave & Waveland Ave",
         "41.948797",
         "-87.675278"
        ],
        [
         "KA1503000044",
         "Rush St & Hubbard St",
         "41.890173",
         "-87.626185"
        ],
        [
         "KA1504000140",
         "Winchester Ave & Elston Ave",
         "41.924037",
         "-87.676415"
        ],
        [
         "TA1305000032",
         "Clinton St & Madison St",
         "41.882242",
         "-87.641066"
        ]
       ],
       "datasetInfos": [],
       "dbfsResultPath": null,
       "isJsonSchema": true,
       "metadata": {
        "dataframeName": "_sqldf",
        "executionCount": 32
       },
       "overflow": false,
       "plotOptions": {
        "customPlotOptions": {},
        "displayType": "table",
        "pivotAggregation": null,
        "pivotColumns": null,
        "xColumns": null,
        "yColumns": null
       },
       "removedWidgets": [],
       "schema": [
        {
         "metadata": "{}",
         "name": "id_station",
         "type": "\"string\""
        },
        {
         "metadata": "{}",
         "name": "nm_station",
         "type": "\"string\""
        },
        {
         "metadata": "{}",
         "name": "nr_latitude",
         "type": "\"decimal(9,6)\""
        },
        {
         "metadata": "{}",
         "name": "nr_longitude",
         "type": "\"decimal(9,6)\""
        }
       ],
       "type": "table"
      }
     },
     "output_type": "display_data"
    }
   ],
   "source": [
    "%sql\n",
    "\n",
    "SELECT *\n",
    "FROM gold.dim_station\n",
    "LIMIT 10"
   ]
  },
  {
   "cell_type": "code",
   "execution_count": 0,
   "metadata": {
    "application/vnd.databricks.v1+cell": {
     "cellMetadata": {
      "byteLimit": 2048000,
      "implicitDf": true,
      "rowLimit": 10000
     },
     "inputWidgets": {},
     "nuid": "f1e6aff1-b192-4b6d-9650-597dcb561c62",
     "showTitle": false,
     "title": ""
    }
   },
   "outputs": [
    {
     "output_type": "display_data",
     "data": {
      "text/html": [
       "<style scoped>\n",
       "  .table-result-container {\n",
       "    max-height: 300px;\n",
       "    overflow: auto;\n",
       "  }\n",
       "  table, th, td {\n",
       "    border: 1px solid black;\n",
       "    border-collapse: collapse;\n",
       "  }\n",
       "  th, td {\n",
       "    padding: 5px;\n",
       "  }\n",
       "  th {\n",
       "    text-align: left;\n",
       "  }\n",
       "</style><div class='table-result-container'><table class='table-result'><thead style='background-color: white'><tr></tr></thead><tbody></tbody></table></div>"
      ]
     },
     "metadata": {
      "application/vnd.databricks.v1+output": {
       "addedWidgets": {},
       "aggData": [],
       "aggError": "",
       "aggOverflow": false,
       "aggSchema": [],
       "aggSeriesLimitReached": false,
       "aggType": "",
       "arguments": {},
       "columnCustomDisplayInfos": {},
       "data": [],
       "datasetInfos": [],
       "dbfsResultPath": null,
       "isJsonSchema": true,
       "metadata": {
        "dataframeName": null
       },
       "overflow": false,
       "plotOptions": {
        "customPlotOptions": {},
        "displayType": "table",
        "pivotAggregation": null,
        "pivotColumns": null,
        "xColumns": null,
        "yColumns": null
       },
       "removedWidgets": [],
       "schema": [],
       "type": "table"
      }
     },
     "output_type": "display_data"
    }
   ],
   "source": [
    "%sql\n",
    "\n",
    "DROP TABLE IF EXISTS gold.dim_rider;\n",
    "\n",
    "CREATE TABLE gold.dim_rider (\n",
    "    id_rider INT,\n",
    "    nm_first_name STRING,\n",
    "    nm_last_name STRING,\n",
    "    dt_birthday DATE,\n",
    "    bl_is_member BOOLEAN,\n",
    "    dt_account_start DATE,\n",
    "    dt_account_end DATE\n",
    ")\n",
    "USING delta;"
   ]
  },
  {
   "cell_type": "code",
   "execution_count": 0,
   "metadata": {
    "application/vnd.databricks.v1+cell": {
     "cellMetadata": {
      "byteLimit": 2048000,
      "implicitDf": true,
      "rowLimit": 10000
     },
     "inputWidgets": {},
     "nuid": "72a118ef-dd5a-445c-a6cd-8494093a6028",
     "showTitle": false,
     "title": ""
    }
   },
   "outputs": [
    {
     "output_type": "display_data",
     "data": {
      "text/html": [
       "<style scoped>\n",
       "  .table-result-container {\n",
       "    max-height: 300px;\n",
       "    overflow: auto;\n",
       "  }\n",
       "  table, th, td {\n",
       "    border: 1px solid black;\n",
       "    border-collapse: collapse;\n",
       "  }\n",
       "  th, td {\n",
       "    padding: 5px;\n",
       "  }\n",
       "  th {\n",
       "    text-align: left;\n",
       "  }\n",
       "</style><div class='table-result-container'><table class='table-result'><thead style='background-color: white'><tr><th>num_affected_rows</th><th>num_inserted_rows</th></tr></thead><tbody><tr><td>75000</td><td>75000</td></tr></tbody></table></div>"
      ]
     },
     "metadata": {
      "application/vnd.databricks.v1+output": {
       "addedWidgets": {},
       "aggData": [],
       "aggError": "",
       "aggOverflow": false,
       "aggSchema": [],
       "aggSeriesLimitReached": false,
       "aggType": "",
       "arguments": {},
       "columnCustomDisplayInfos": {},
       "data": [
        [
         75000,
         75000
        ]
       ],
       "datasetInfos": [],
       "dbfsResultPath": null,
       "isJsonSchema": true,
       "metadata": {
        "dataframeName": "_sqldf",
        "executionCount": 38
       },
       "overflow": false,
       "plotOptions": {
        "customPlotOptions": {},
        "displayType": "table",
        "pivotAggregation": null,
        "pivotColumns": null,
        "xColumns": null,
        "yColumns": null
       },
       "removedWidgets": [],
       "schema": [
        {
         "metadata": "{}",
         "name": "num_affected_rows",
         "type": "\"long\""
        },
        {
         "metadata": "{}",
         "name": "num_inserted_rows",
         "type": "\"long\""
        }
       ],
       "type": "table"
      }
     },
     "output_type": "display_data"
    }
   ],
   "source": [
    "%sql\n",
    "\n",
    "TRUNCATE TABLE gold.dim_rider;\n",
    "\n",
    "INSERT INTO gold.dim_rider\n",
    "SELECT\n",
    "    Rider_Id AS id_rider,\n",
    "    \"First\" AS nm_first_name,\n",
    "    \"Last\" AS nm_last_name,\n",
    "    CAST(Birthday AS DATE) AS dt_birthday,\n",
    "    Is_member AS bl_is_member,\n",
    "    CAST(Account_start_date AS DATE) AS dt_account_start,\n",
    "    CAST(Account_end_date AS DATE) AS dt_account_end\n",
    "FROM silver.riders"
   ]
  },
  {
   "cell_type": "code",
   "execution_count": 0,
   "metadata": {
    "application/vnd.databricks.v1+cell": {
     "cellMetadata": {
      "byteLimit": 2048000,
      "implicitDf": true,
      "rowLimit": 10000
     },
     "inputWidgets": {},
     "nuid": "ed254f94-6ca0-4992-8bdd-1c6c82036b04",
     "showTitle": false,
     "title": ""
    }
   },
   "outputs": [
    {
     "output_type": "display_data",
     "data": {
      "text/html": [
       "<style scoped>\n",
       "  .table-result-container {\n",
       "    max-height: 300px;\n",
       "    overflow: auto;\n",
       "  }\n",
       "  table, th, td {\n",
       "    border: 1px solid black;\n",
       "    border-collapse: collapse;\n",
       "  }\n",
       "  th, td {\n",
       "    padding: 5px;\n",
       "  }\n",
       "  th {\n",
       "    text-align: left;\n",
       "  }\n",
       "</style><div class='table-result-container'><table class='table-result'><thead style='background-color: white'><tr><th>id_rider</th><th>nm_first_name</th><th>nm_last_name</th><th>dt_birthday</th><th>bl_is_member</th><th>dt_account_start</th><th>dt_account_end</th></tr></thead><tbody><tr><td>1000</td><td>First</td><td>Last</td><td>1989-02-13</td><td>true</td><td>2019-04-23</td><td>null</td></tr><tr><td>1001</td><td>First</td><td>Last</td><td>1976-08-10</td><td>true</td><td>2019-11-01</td><td>2020-09-01</td></tr><tr><td>1002</td><td>First</td><td>Last</td><td>1998-08-10</td><td>true</td><td>2022-02-04</td><td>null</td></tr><tr><td>1003</td><td>First</td><td>Last</td><td>1999-03-29</td><td>false</td><td>2019-08-26</td><td>null</td></tr><tr><td>1004</td><td>First</td><td>Last</td><td>1969-04-11</td><td>true</td><td>2019-09-14</td><td>null</td></tr><tr><td>1005</td><td>First</td><td>Last</td><td>1974-08-27</td><td>false</td><td>2020-03-24</td><td>null</td></tr><tr><td>1006</td><td>First</td><td>Last</td><td>2004-01-30</td><td>true</td><td>2020-11-27</td><td>2021-12-01</td></tr><tr><td>1007</td><td>First</td><td>Last</td><td>1988-01-11</td><td>false</td><td>2016-12-11</td><td>null</td></tr><tr><td>1008</td><td>First</td><td>Last</td><td>1987-02-21</td><td>true</td><td>2021-03-28</td><td>2021-07-01</td></tr><tr><td>1009</td><td>First</td><td>Last</td><td>1981-02-07</td><td>true</td><td>2020-06-12</td><td>2021-11-01</td></tr></tbody></table></div>"
      ]
     },
     "metadata": {
      "application/vnd.databricks.v1+output": {
       "addedWidgets": {},
       "aggData": [],
       "aggError": "",
       "aggOverflow": false,
       "aggSchema": [],
       "aggSeriesLimitReached": false,
       "aggType": "",
       "arguments": {},
       "columnCustomDisplayInfos": {},
       "data": [
        [
         1000,
         "First",
         "Last",
         "1989-02-13",
         true,
         "2019-04-23",
         null
        ],
        [
         1001,
         "First",
         "Last",
         "1976-08-10",
         true,
         "2019-11-01",
         "2020-09-01"
        ],
        [
         1002,
         "First",
         "Last",
         "1998-08-10",
         true,
         "2022-02-04",
         null
        ],
        [
         1003,
         "First",
         "Last",
         "1999-03-29",
         false,
         "2019-08-26",
         null
        ],
        [
         1004,
         "First",
         "Last",
         "1969-04-11",
         true,
         "2019-09-14",
         null
        ],
        [
         1005,
         "First",
         "Last",
         "1974-08-27",
         false,
         "2020-03-24",
         null
        ],
        [
         1006,
         "First",
         "Last",
         "2004-01-30",
         true,
         "2020-11-27",
         "2021-12-01"
        ],
        [
         1007,
         "First",
         "Last",
         "1988-01-11",
         false,
         "2016-12-11",
         null
        ],
        [
         1008,
         "First",
         "Last",
         "1987-02-21",
         true,
         "2021-03-28",
         "2021-07-01"
        ],
        [
         1009,
         "First",
         "Last",
         "1981-02-07",
         true,
         "2020-06-12",
         "2021-11-01"
        ]
       ],
       "datasetInfos": [],
       "dbfsResultPath": null,
       "isJsonSchema": true,
       "metadata": {
        "dataframeName": "_sqldf",
        "executionCount": 40
       },
       "overflow": false,
       "plotOptions": {
        "customPlotOptions": {},
        "displayType": "table",
        "pivotAggregation": null,
        "pivotColumns": null,
        "xColumns": null,
        "yColumns": null
       },
       "removedWidgets": [],
       "schema": [
        {
         "metadata": "{}",
         "name": "id_rider",
         "type": "\"integer\""
        },
        {
         "metadata": "{}",
         "name": "nm_first_name",
         "type": "\"string\""
        },
        {
         "metadata": "{}",
         "name": "nm_last_name",
         "type": "\"string\""
        },
        {
         "metadata": "{}",
         "name": "dt_birthday",
         "type": "\"date\""
        },
        {
         "metadata": "{}",
         "name": "bl_is_member",
         "type": "\"boolean\""
        },
        {
         "metadata": "{}",
         "name": "dt_account_start",
         "type": "\"date\""
        },
        {
         "metadata": "{}",
         "name": "dt_account_end",
         "type": "\"date\""
        }
       ],
       "type": "table"
      }
     },
     "output_type": "display_data"
    }
   ],
   "source": [
    "%sql\n",
    "\n",
    "SELECT *\n",
    "FROM gold.dim_rider\n",
    "LIMIT 10"
   ]
  },
  {
   "cell_type": "code",
   "execution_count": 0,
   "metadata": {
    "application/vnd.databricks.v1+cell": {
     "cellMetadata": {
      "byteLimit": 2048000,
      "implicitDf": true,
      "rowLimit": 10000
     },
     "inputWidgets": {},
     "nuid": "a01d9e2e-967d-481a-9487-4de5cfca7875",
     "showTitle": false,
     "title": ""
    }
   },
   "outputs": [
    {
     "output_type": "display_data",
     "data": {
      "text/html": [
       "<style scoped>\n",
       "  .table-result-container {\n",
       "    max-height: 300px;\n",
       "    overflow: auto;\n",
       "  }\n",
       "  table, th, td {\n",
       "    border: 1px solid black;\n",
       "    border-collapse: collapse;\n",
       "  }\n",
       "  th, td {\n",
       "    padding: 5px;\n",
       "  }\n",
       "  th {\n",
       "    text-align: left;\n",
       "  }\n",
       "</style><div class='table-result-container'><table class='table-result'><thead style='background-color: white'><tr></tr></thead><tbody></tbody></table></div>"
      ]
     },
     "metadata": {
      "application/vnd.databricks.v1+output": {
       "addedWidgets": {},
       "aggData": [],
       "aggError": "",
       "aggOverflow": false,
       "aggSchema": [],
       "aggSeriesLimitReached": false,
       "aggType": "",
       "arguments": {},
       "columnCustomDisplayInfos": {},
       "data": [],
       "datasetInfos": [],
       "dbfsResultPath": null,
       "isJsonSchema": true,
       "metadata": {
        "dataframeName": null
       },
       "overflow": false,
       "plotOptions": {
        "customPlotOptions": {},
        "displayType": "table",
        "pivotAggregation": null,
        "pivotColumns": null,
        "xColumns": null,
        "yColumns": null
       },
       "removedWidgets": [],
       "schema": [],
       "type": "table"
      }
     },
     "output_type": "display_data"
    }
   ],
   "source": [
    "%sql\n",
    "\n",
    "DROP TABLE IF EXISTS gold.fact_payment;\n",
    "\n",
    "CREATE TABLE gold.fact_payment (\n",
    "    id_date INT,\n",
    "    id_rider INT,\n",
    "    vl_account_amount DECIMAL(9,2),\n",
    "    nr_rider_age INTEGER\n",
    ")\n",
    "USING delta;"
   ]
  },
  {
   "cell_type": "code",
   "execution_count": 0,
   "metadata": {
    "application/vnd.databricks.v1+cell": {
     "cellMetadata": {
      "byteLimit": 2048000,
      "implicitDf": true,
      "rowLimit": 10000
     },
     "inputWidgets": {},
     "nuid": "9bfe4bef-3b2f-4591-8ca7-b2dec0a4eccc",
     "showTitle": false,
     "title": ""
    }
   },
   "outputs": [
    {
     "output_type": "display_data",
     "data": {
      "text/html": [
       "<style scoped>\n",
       "  .table-result-container {\n",
       "    max-height: 300px;\n",
       "    overflow: auto;\n",
       "  }\n",
       "  table, th, td {\n",
       "    border: 1px solid black;\n",
       "    border-collapse: collapse;\n",
       "  }\n",
       "  th, td {\n",
       "    padding: 5px;\n",
       "  }\n",
       "  th {\n",
       "    text-align: left;\n",
       "  }\n",
       "</style><div class='table-result-container'><table class='table-result'><thead style='background-color: white'><tr><th>num_affected_rows</th><th>num_inserted_rows</th></tr></thead><tbody><tr><td>1946607</td><td>1946607</td></tr></tbody></table></div>"
      ]
     },
     "metadata": {
      "application/vnd.databricks.v1+output": {
       "addedWidgets": {},
       "aggData": [],
       "aggError": "",
       "aggOverflow": false,
       "aggSchema": [],
       "aggSeriesLimitReached": false,
       "aggType": "",
       "arguments": {},
       "columnCustomDisplayInfos": {},
       "data": [
        [
         1946607,
         1946607
        ]
       ],
       "datasetInfos": [],
       "dbfsResultPath": null,
       "isJsonSchema": true,
       "metadata": {
        "dataframeName": "_sqldf",
        "executionCount": 54
       },
       "overflow": false,
       "plotOptions": {
        "customPlotOptions": {},
        "displayType": "table",
        "pivotAggregation": null,
        "pivotColumns": null,
        "xColumns": null,
        "yColumns": null
       },
       "removedWidgets": [],
       "schema": [
        {
         "metadata": "{}",
         "name": "num_affected_rows",
         "type": "\"long\""
        },
        {
         "metadata": "{}",
         "name": "num_inserted_rows",
         "type": "\"long\""
        }
       ],
       "type": "table"
      }
     },
     "output_type": "display_data"
    }
   ],
   "source": [
    "%sql\n",
    "\n",
    "TRUNCATE TABLE gold.fact_payment;\n",
    "\n",
    "INSERT INTO gold.fact_payment\n",
    "SELECT \n",
    "    CASE \n",
    "        WHEN pay.`date` IS NOT NULL THEN CAST(CONCAT(SUBSTRING(pay.`date`, 1, 4), SUBSTRING(pay.`date`, 6, 2), SUBSTRING(pay.`date`, 9, 2)) AS INT)\n",
    "        ELSE -1\n",
    "    END AS id_date,\n",
    "    pay.rider_id as id_rider,\n",
    "    pay.amount as vl_account_amount,\n",
    "    DATEDIFF(YEAR, TO_DATE(rid.dt_birthday), TO_DATE(pay.`date`))  as nr_rider_age\n",
    "FROM silver.payment pay\n",
    "JOIN gold.dim_rider rid\n",
    "    ON pay.rider_id = rid.id_rider"
   ]
  },
  {
   "cell_type": "code",
   "execution_count": 0,
   "metadata": {
    "application/vnd.databricks.v1+cell": {
     "cellMetadata": {
      "byteLimit": 2048000,
      "implicitDf": true,
      "rowLimit": 10000
     },
     "inputWidgets": {},
     "nuid": "1f6cae2b-4ab7-4224-807b-4151c2a6e4a6",
     "showTitle": false,
     "title": ""
    }
   },
   "outputs": [
    {
     "output_type": "display_data",
     "data": {
      "text/html": [
       "<style scoped>\n",
       "  .table-result-container {\n",
       "    max-height: 300px;\n",
       "    overflow: auto;\n",
       "  }\n",
       "  table, th, td {\n",
       "    border: 1px solid black;\n",
       "    border-collapse: collapse;\n",
       "  }\n",
       "  th, td {\n",
       "    padding: 5px;\n",
       "  }\n",
       "  th {\n",
       "    text-align: left;\n",
       "  }\n",
       "</style><div class='table-result-container'><table class='table-result'><thead style='background-color: white'><tr><th>id_date</th><th>id_rider</th><th>vl_account_amount</th><th>nr_rider_age</th></tr></thead><tbody><tr><td>20190501</td><td>1000</td><td>9.00</td><td>30</td></tr><tr><td>20190601</td><td>1000</td><td>9.00</td><td>30</td></tr><tr><td>20190701</td><td>1000</td><td>9.00</td><td>30</td></tr><tr><td>20190801</td><td>1000</td><td>9.00</td><td>30</td></tr><tr><td>20190901</td><td>1000</td><td>9.00</td><td>30</td></tr><tr><td>20191001</td><td>1000</td><td>9.00</td><td>30</td></tr><tr><td>20191101</td><td>1000</td><td>9.00</td><td>30</td></tr><tr><td>20191201</td><td>1000</td><td>9.00</td><td>30</td></tr><tr><td>20200101</td><td>1000</td><td>9.00</td><td>30</td></tr><tr><td>20200201</td><td>1000</td><td>9.00</td><td>30</td></tr></tbody></table></div>"
      ]
     },
     "metadata": {
      "application/vnd.databricks.v1+output": {
       "addedWidgets": {},
       "aggData": [],
       "aggError": "",
       "aggOverflow": false,
       "aggSchema": [],
       "aggSeriesLimitReached": false,
       "aggType": "",
       "arguments": {},
       "columnCustomDisplayInfos": {},
       "data": [
        [
         20190501,
         1000,
         "9.00",
         30
        ],
        [
         20190601,
         1000,
         "9.00",
         30
        ],
        [
         20190701,
         1000,
         "9.00",
         30
        ],
        [
         20190801,
         1000,
         "9.00",
         30
        ],
        [
         20190901,
         1000,
         "9.00",
         30
        ],
        [
         20191001,
         1000,
         "9.00",
         30
        ],
        [
         20191101,
         1000,
         "9.00",
         30
        ],
        [
         20191201,
         1000,
         "9.00",
         30
        ],
        [
         20200101,
         1000,
         "9.00",
         30
        ],
        [
         20200201,
         1000,
         "9.00",
         30
        ]
       ],
       "datasetInfos": [],
       "dbfsResultPath": null,
       "isJsonSchema": true,
       "metadata": {
        "dataframeName": "_sqldf",
        "executionCount": 56
       },
       "overflow": false,
       "plotOptions": {
        "customPlotOptions": {},
        "displayType": "table",
        "pivotAggregation": null,
        "pivotColumns": null,
        "xColumns": null,
        "yColumns": null
       },
       "removedWidgets": [],
       "schema": [
        {
         "metadata": "{}",
         "name": "id_date",
         "type": "\"integer\""
        },
        {
         "metadata": "{}",
         "name": "id_rider",
         "type": "\"integer\""
        },
        {
         "metadata": "{}",
         "name": "vl_account_amount",
         "type": "\"decimal(9,2)\""
        },
        {
         "metadata": "{}",
         "name": "nr_rider_age",
         "type": "\"integer\""
        }
       ],
       "type": "table"
      }
     },
     "output_type": "display_data"
    }
   ],
   "source": [
    "%sql\n",
    "\n",
    "SELECT *\n",
    "FROM gold.fact_payment\n",
    "LIMIT 10"
   ]
  },
  {
   "cell_type": "code",
   "execution_count": 0,
   "metadata": {
    "application/vnd.databricks.v1+cell": {
     "cellMetadata": {
      "byteLimit": 2048000,
      "implicitDf": true,
      "rowLimit": 10000
     },
     "inputWidgets": {},
     "nuid": "1ad2d76a-e675-4d13-9848-1b6bf185b502",
     "showTitle": false,
     "title": ""
    }
   },
   "outputs": [
    {
     "output_type": "display_data",
     "data": {
      "text/html": [
       "<style scoped>\n",
       "  .table-result-container {\n",
       "    max-height: 300px;\n",
       "    overflow: auto;\n",
       "  }\n",
       "  table, th, td {\n",
       "    border: 1px solid black;\n",
       "    border-collapse: collapse;\n",
       "  }\n",
       "  th, td {\n",
       "    padding: 5px;\n",
       "  }\n",
       "  th {\n",
       "    text-align: left;\n",
       "  }\n",
       "</style><div class='table-result-container'><table class='table-result'><thead style='background-color: white'><tr></tr></thead><tbody></tbody></table></div>"
      ]
     },
     "metadata": {
      "application/vnd.databricks.v1+output": {
       "addedWidgets": {},
       "aggData": [],
       "aggError": "",
       "aggOverflow": false,
       "aggSchema": [],
       "aggSeriesLimitReached": false,
       "aggType": "",
       "arguments": {},
       "columnCustomDisplayInfos": {},
       "data": [],
       "datasetInfos": [],
       "dbfsResultPath": null,
       "isJsonSchema": true,
       "metadata": {
        "dataframeName": null
       },
       "overflow": false,
       "plotOptions": {
        "customPlotOptions": {},
        "displayType": "table",
        "pivotAggregation": null,
        "pivotColumns": null,
        "xColumns": null,
        "yColumns": null
       },
       "removedWidgets": [],
       "schema": [],
       "type": "table"
      }
     },
     "output_type": "display_data"
    }
   ],
   "source": [
    "%sql\n",
    "\n",
    "DROP TABLE IF EXISTS gold.fact_trip;\n",
    "\n",
    "CREATE TABLE gold.fact_trip (\n",
    "    id_date_start INT,\n",
    "    id_time_start INT,\n",
    "    id_station_start STRING,\n",
    "    id_date_end INT,\n",
    "    id_time_end INT,\n",
    "    id_station_end STRING,\n",
    "    id_rider INT,\n",
    "    nr_rider_age INT,\n",
    "    nr_trip_minutes_duration INT\n",
    ")\n",
    "USING delta;"
   ]
  },
  {
   "cell_type": "code",
   "execution_count": 0,
   "metadata": {
    "application/vnd.databricks.v1+cell": {
     "cellMetadata": {
      "byteLimit": 2048000,
      "implicitDf": true,
      "rowLimit": 10000
     },
     "inputWidgets": {},
     "nuid": "957fed06-6108-4031-8789-4c2c001759d2",
     "showTitle": false,
     "title": ""
    }
   },
   "outputs": [
    {
     "output_type": "display_data",
     "data": {
      "text/html": [
       "<style scoped>\n",
       "  .table-result-container {\n",
       "    max-height: 300px;\n",
       "    overflow: auto;\n",
       "  }\n",
       "  table, th, td {\n",
       "    border: 1px solid black;\n",
       "    border-collapse: collapse;\n",
       "  }\n",
       "  th, td {\n",
       "    padding: 5px;\n",
       "  }\n",
       "  th {\n",
       "    text-align: left;\n",
       "  }\n",
       "</style><div class='table-result-container'><table class='table-result'><thead style='background-color: white'><tr><th>num_affected_rows</th><th>num_inserted_rows</th></tr></thead><tbody><tr><td>4584921</td><td>4584921</td></tr></tbody></table></div>"
      ]
     },
     "metadata": {
      "application/vnd.databricks.v1+output": {
       "addedWidgets": {},
       "aggData": [],
       "aggError": "",
       "aggOverflow": false,
       "aggSchema": [],
       "aggSeriesLimitReached": false,
       "aggType": "",
       "arguments": {},
       "columnCustomDisplayInfos": {},
       "data": [
        [
         4584921,
         4584921
        ]
       ],
       "datasetInfos": [],
       "dbfsResultPath": null,
       "isJsonSchema": true,
       "metadata": {
        "dataframeName": "_sqldf",
        "executionCount": 69
       },
       "overflow": false,
       "plotOptions": {
        "customPlotOptions": {},
        "displayType": "table",
        "pivotAggregation": null,
        "pivotColumns": null,
        "xColumns": null,
        "yColumns": null
       },
       "removedWidgets": [],
       "schema": [
        {
         "metadata": "{}",
         "name": "num_affected_rows",
         "type": "\"long\""
        },
        {
         "metadata": "{}",
         "name": "num_inserted_rows",
         "type": "\"long\""
        }
       ],
       "type": "table"
      }
     },
     "output_type": "display_data"
    }
   ],
   "source": [
    "%sql\n",
    "\n",
    "TRUNCATE TABLE gold.fact_trip;\n",
    "\n",
    "INSERT INTO gold.fact_trip\n",
    "SELECT\n",
    "    COALESCE(CAST(DATE_FORMAT(started_at, 'yyyyMMdd') AS INT), -1) AS id_date_start,\n",
    "    COALESCE(CAST(REPLACE(SUBSTRING(started_at, 12, 5), \":\", \"\") AS INT), -1) AS id_time_start,\n",
    "    tri.start_station_id AS id_station_start,\n",
    "    COALESCE(CAST(DATE_FORMAT(ended_at, 'yyyyMMdd') AS INT), -1) AS id_date_end,\n",
    "    COALESCE(CAST(REPLACE(SUBSTRING(ended_at, 12, 5), \":\", \"\") AS INT), -1) AS id_time_end,\n",
    "    tri.end_station_id AS id_station_end,\n",
    "    rider_id AS id_rider,\n",
    "    DATEDIFF(YEAR, rid.dt_birthday, CAST(tri.Started_At AS DATE)) AS Rider_Age,\n",
    "    DATEDIFF(MINUTE, CAST(tri.Started_At AS TIMESTAMP), CAST(tri.Ended_At AS TIMESTAMP)) AS nr_trip_minutes_duration\n",
    "FROM\n",
    "    silver.trips AS tri\n",
    "    JOIN gold.dim_rider AS rid\n",
    "        ON rid.id_rider = tri.rider_id;"
   ]
  },
  {
   "cell_type": "code",
   "execution_count": 0,
   "metadata": {
    "application/vnd.databricks.v1+cell": {
     "cellMetadata": {
      "byteLimit": 2048000,
      "implicitDf": true,
      "rowLimit": 10000
     },
     "inputWidgets": {},
     "nuid": "953c7d1d-a1aa-4c2a-b417-0e3894a0e933",
     "showTitle": false,
     "title": ""
    }
   },
   "outputs": [
    {
     "output_type": "display_data",
     "data": {
      "text/html": [
       "<style scoped>\n",
       "  .table-result-container {\n",
       "    max-height: 300px;\n",
       "    overflow: auto;\n",
       "  }\n",
       "  table, th, td {\n",
       "    border: 1px solid black;\n",
       "    border-collapse: collapse;\n",
       "  }\n",
       "  th, td {\n",
       "    padding: 5px;\n",
       "  }\n",
       "  th {\n",
       "    text-align: left;\n",
       "  }\n",
       "</style><div class='table-result-container'><table class='table-result'><thead style='background-color: white'><tr><th>id_date_start</th><th>id_time_start</th><th>id_station_start</th><th>id_date_end</th><th>id_time_end</th><th>id_station_end</th><th>id_rider</th><th>nr_rider_age</th><th>nr_trip_minutes_duration</th></tr></thead><tbody><tr><td>20210212</td><td>1614</td><td>525</td><td>20210212</td><td>1621</td><td>660</td><td>71934</td><td>37</td><td>6</td></tr><tr><td>20210214</td><td>1752</td><td>525</td><td>20210214</td><td>1812</td><td>16806</td><td>47854</td><td>38</td><td>19</td></tr><tr><td>20210209</td><td>1910</td><td>KA1503000012</td><td>20210209</td><td>1919</td><td>TA1305000029</td><td>70870</td><td>33</td><td>8</td></tr><tr><td>20210202</td><td>1749</td><td>637</td><td>20210202</td><td>1754</td><td>TA1305000034</td><td>58974</td><td>19</td><td>4</td></tr><tr><td>20210223</td><td>1507</td><td>13216</td><td>20210223</td><td>1522</td><td>TA1309000055</td><td>39608</td><td>71</td><td>15</td></tr><tr><td>20210224</td><td>1543</td><td>18003</td><td>20210224</td><td>1549</td><td>KP1705001026</td><td>36267</td><td>27</td><td>5</td></tr><tr><td>20210201</td><td>1747</td><td>KP1705001026</td><td>20210201</td><td>1748</td><td>KP1705001026</td><td>50104</td><td>33</td><td>0</td></tr><tr><td>20210211</td><td>1833</td><td>18003</td><td>20210211</td><td>1835</td><td>18003</td><td>19618</td><td>23</td><td>1</td></tr><tr><td>20210227</td><td>1513</td><td>KP1705001026</td><td>20210227</td><td>1536</td><td>KP1705001026</td><td>16732</td><td>19</td><td>22</td></tr><tr><td>20210220</td><td>859</td><td>KP1705001026</td><td>20210220</td><td>917</td><td>KP1705001026</td><td>57068</td><td>47</td><td>17</td></tr></tbody></table></div>"
      ]
     },
     "metadata": {
      "application/vnd.databricks.v1+output": {
       "addedWidgets": {},
       "aggData": [],
       "aggError": "",
       "aggOverflow": false,
       "aggSchema": [],
       "aggSeriesLimitReached": false,
       "aggType": "",
       "arguments": {},
       "columnCustomDisplayInfos": {},
       "data": [
        [
         20210212,
         1614,
         "525",
         20210212,
         1621,
         "660",
         71934,
         37,
         6
        ],
        [
         20210214,
         1752,
         "525",
         20210214,
         1812,
         "16806",
         47854,
         38,
         19
        ],
        [
         20210209,
         1910,
         "KA1503000012",
         20210209,
         1919,
         "TA1305000029",
         70870,
         33,
         8
        ],
        [
         20210202,
         1749,
         "637",
         20210202,
         1754,
         "TA1305000034",
         58974,
         19,
         4
        ],
        [
         20210223,
         1507,
         "13216",
         20210223,
         1522,
         "TA1309000055",
         39608,
         71,
         15
        ],
        [
         20210224,
         1543,
         "18003",
         20210224,
         1549,
         "KP1705001026",
         36267,
         27,
         5
        ],
        [
         20210201,
         1747,
         "KP1705001026",
         20210201,
         1748,
         "KP1705001026",
         50104,
         33,
         0
        ],
        [
         20210211,
         1833,
         "18003",
         20210211,
         1835,
         "18003",
         19618,
         23,
         1
        ],
        [
         20210227,
         1513,
         "KP1705001026",
         20210227,
         1536,
         "KP1705001026",
         16732,
         19,
         22
        ],
        [
         20210220,
         859,
         "KP1705001026",
         20210220,
         917,
         "KP1705001026",
         57068,
         47,
         17
        ]
       ],
       "datasetInfos": [],
       "dbfsResultPath": null,
       "isJsonSchema": true,
       "metadata": {
        "dataframeName": "_sqldf",
        "executionCount": 71
       },
       "overflow": false,
       "plotOptions": {
        "customPlotOptions": {},
        "displayType": "table",
        "pivotAggregation": null,
        "pivotColumns": null,
        "xColumns": null,
        "yColumns": null
       },
       "removedWidgets": [],
       "schema": [
        {
         "metadata": "{}",
         "name": "id_date_start",
         "type": "\"integer\""
        },
        {
         "metadata": "{}",
         "name": "id_time_start",
         "type": "\"integer\""
        },
        {
         "metadata": "{}",
         "name": "id_station_start",
         "type": "\"string\""
        },
        {
         "metadata": "{}",
         "name": "id_date_end",
         "type": "\"integer\""
        },
        {
         "metadata": "{}",
         "name": "id_time_end",
         "type": "\"integer\""
        },
        {
         "metadata": "{}",
         "name": "id_station_end",
         "type": "\"string\""
        },
        {
         "metadata": "{}",
         "name": "id_rider",
         "type": "\"integer\""
        },
        {
         "metadata": "{}",
         "name": "nr_rider_age",
         "type": "\"integer\""
        },
        {
         "metadata": "{}",
         "name": "nr_trip_minutes_duration",
         "type": "\"integer\""
        }
       ],
       "type": "table"
      }
     },
     "output_type": "display_data"
    }
   ],
   "source": [
    "%sql\n",
    "\n",
    "select *\n",
    "FROM gold.fact_trip\n",
    "limit 10"
   ]
  }
 ],
 "metadata": {
  "application/vnd.databricks.v1+notebook": {
   "dashboards": [],
   "language": "python",
   "notebookMetadata": {
    "mostRecentlyExecutedCommandWithImplicitDF": {
     "commandId": 2588556990572921,
     "dataframes": [
      "_sqldf"
     ]
    },
    "pythonIndentUnit": 4
   },
   "notebookName": "3. Transform Notebook",
   "widgets": {}
  }
 },
 "nbformat": 4,
 "nbformat_minor": 0
}
